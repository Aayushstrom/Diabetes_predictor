{
 "cells": [
  {
   "cell_type": "code",
   "execution_count": null,
   "id": "21774f21-8b98-4969-aae3-6d831e533a87",
   "metadata": {},
   "outputs": [],
   "source": []
  }
 ],
 "metadata": {
  "kernelspec": {
   "display_name": "",
   "name": ""
  },
  "language_info": {
   "name": ""
  }
 },
 "nbformat": 4,
 "nbformat_minor": 5
}
